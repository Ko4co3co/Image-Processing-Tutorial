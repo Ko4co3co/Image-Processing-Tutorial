{
 "cells": [
  {
   "cell_type": "code",
   "execution_count": 1,
   "metadata": {},
   "outputs": [],
   "source": [
    "import cv2\n",
    "import numpy as np \n",
    "import os"
   ]
  },
  {
   "cell_type": "code",
   "execution_count": 2,
   "metadata": {},
   "outputs": [
    {
     "data": {
      "text/plain": [
       "'3.4.1'"
      ]
     },
     "execution_count": 2,
     "metadata": {},
     "output_type": "execute_result"
    }
   ],
   "source": [
    "cv2.__version__"
   ]
  },
  {
   "cell_type": "code",
   "execution_count": 53,
   "metadata": {},
   "outputs": [],
   "source": [
    "def Image_Show(Image):\n",
    "    cv2.imshow('Image',Image)\n",
    "    cv2.waitKey(0)\n",
    "    cv2.destroyAllWindows()"
   ]
  },
  {
   "cell_type": "code",
   "execution_count": 54,
   "metadata": {},
   "outputs": [
    {
     "name": "stdout",
     "output_type": "stream",
     "text": [
      "['./image/1_lena256.jpg', './image/2_51_bus.jpg']\n"
     ]
    }
   ],
   "source": [
    "IMAGE_DIR = './image'\n",
    "IMAGE_LIST = os.listdir(IMAGE_DIR)\n",
    "images = [IMAGE_DIR +'/'+ image for image in IMAGE_LIST]\n",
    "print(images)"
   ]
  },
  {
   "cell_type": "markdown",
   "metadata": {},
   "source": [
    "## Image Open\n",
    "### cv2.imread(filename , flag) \n",
    "- 이미지를 열어주는 함수, Opencv-python에서는 Numpy ndarray로 저장한다.\n",
    "- Flags = cv2.IMREAD_COLOR , cv2.IMREAD_GRAYSCALE , cv2.IMREAD_UNCHANGED<\n",
    "- cv2.IMREAD_COLOR : 이미지 파일을 Color로 읽어들임. Default 값, Blue,Red,Green 3차원 채널로 구성\n",
    "- cv2.IMREAD_GRAYSCALE : 이미지를 회색화면으로 읽어들임, Black, White로 1차원 채널로 구성\n",
    "- cv2.IMREAD_UNCHANGED : 투명을 표시하는 알파채널까지 읽어 들임"
   ]
  },
  {
   "cell_type": "code",
   "execution_count": 66,
   "metadata": {},
   "outputs": [
    {
     "name": "stdout",
     "output_type": "stream",
     "text": [
      "<class 'numpy.ndarray'>\n",
      "(225, 224, 3)\n",
      "[[ 82 121 173]\n",
      " [ 79 119 172]\n",
      " [ 75 115 173]\n",
      " [ 69 110 172]\n",
      " [ 66 106 171]\n",
      " [ 62 101 170]\n",
      " [ 59  97 169]\n",
      " [ 62  95 168]\n",
      " [ 67  95 166]\n",
      " [ 77  96 163]]\n"
     ]
    }
   ],
   "source": [
    "Image = cv2.imread(images[0],cv2.IMREAD_COLOR)\n",
    "print(type(Image))\n",
    "print(Image.shape)\n",
    "print(Image[2][:10])"
   ]
  },
  {
   "cell_type": "code",
   "execution_count": 56,
   "metadata": {},
   "outputs": [
    {
     "name": "stdout",
     "output_type": "stream",
     "text": [
      "(225, 224)\n",
      "[132 130 128 124 121 117 114 113 113 114]\n"
     ]
    }
   ],
   "source": [
    "Image = cv2.imread(images[0],cv2.IMREAD_GRAYSCALE)\n",
    "print(Image.shape)\n",
    "print(Image[2][:10])"
   ]
  },
  {
   "cell_type": "code",
   "execution_count": 57,
   "metadata": {},
   "outputs": [
    {
     "name": "stdout",
     "output_type": "stream",
     "text": [
      "(225, 224, 3)\n",
      "[[ 82 121 173]\n",
      " [ 79 119 172]\n",
      " [ 75 115 173]\n",
      " [ 69 110 172]\n",
      " [ 66 106 171]\n",
      " [ 62 101 170]\n",
      " [ 59  97 169]\n",
      " [ 62  95 168]\n",
      " [ 67  95 166]\n",
      " [ 77  96 163]]\n"
     ]
    }
   ],
   "source": [
    "Image = cv2.imread(images[0],cv2.IMREAD_UNCHANGED)\n",
    "print(Image.shape)\n",
    "print(Image[2][:10])"
   ]
  },
  {
   "cell_type": "code",
   "execution_count": 71,
   "metadata": {},
   "outputs": [
    {
     "name": "stdout",
     "output_type": "stream",
     "text": [
      "(100, 100, 3)\n"
     ]
    }
   ],
   "source": [
    "Image = cv2.resize(Image,(100,100))\n",
    "print(Image.shape)"
   ]
  },
  {
   "cell_type": "code",
   "execution_count": 80,
   "metadata": {},
   "outputs": [
    {
     "name": "stdout",
     "output_type": "stream",
     "text": [
      "(112, 112, 3)\n"
     ]
    }
   ],
   "source": [
    "Image = cv2.imread(images[0])\n",
    "resize_Scale = 0.5\n",
    "height,width,channel = Image.shape\n",
    "# 비율로도 조절이 가능\n",
    "Image = cv2.resize(Image,(int(width*0.5),int(height*0.5)))\n",
    "print(Image.shape)"
   ]
  },
  {
   "cell_type": "markdown",
   "metadata": {},
   "source": [
    "## Draw Polygraph\n",
    "\n",
    "cv2.line(), cv2.circle(), cv2.rectangle(), cv2.putText() 와 같은 함수로 도형을 그릴수 있음\n",
    "### cv2.line(img,start,end,color,thickness)\n",
    "- img = 이미지 파일\n",
    "- Start = 선의 시작지점 (x,y)\n",
    "- end = 선의 끝지점(x,y)\n",
    "- Color = 선의 색상 (B,R,G)\n",
    "- Thickness = 선의 굵기 "
   ]
  },
  {
   "cell_type": "code",
   "execution_count": 81,
   "metadata": {},
   "outputs": [
    {
     "name": "stdout",
     "output_type": "stream",
     "text": [
      "224 225\n"
     ]
    }
   ],
   "source": [
    "Image = cv2.imread(images[0])\n",
    "h,w,_ = Image.shape\n",
    "print(w,h)\n",
    "cv2.line(Image,(int(0.3*w),int(0.3*h)),(int(0.5*w),int(0.4*h)),(255,255,255),1)\n",
    "cv2.line(Image,(100,100),(200,200),(0,0,0),1)\n",
    "Image_Show(Image)"
   ]
  },
  {
   "cell_type": "markdown",
   "metadata": {},
   "source": [
    "### cv2.circle(img,center,radian,color,thickness)\n",
    "- Img = 이미지 파일\n",
    "- Center = 원의 중심점(x,y)\n",
    "- Radian = 원의 반지름\n",
    "- Color = 원의 색상(B,R,G)\n",
    "- Thickness = 원의 굵기 , -1이면 안쪽을 채움"
   ]
  },
  {
   "cell_type": "code",
   "execution_count": 82,
   "metadata": {},
   "outputs": [],
   "source": [
    "Image = cv2.imread(images[0])\n",
    "h,w,_ = Image.shape\n",
    "cv2.circle(Image,(int(w*0.5),int(h*0.5)),int(w*0.25),(255,255,255),1)\n",
    "cv2.circle(Image,(112,112),10,(0,0,0),-1) \n",
    "Image_Show(Image)"
   ]
  },
  {
   "cell_type": "markdown",
   "metadata": {},
   "source": [
    "### cv2.Polylines(img,pts,isClosed,Color,thickness)\n",
    "- Img = 이미지 파일 \n",
    "- Pts = 연결 좌표 \n",
    "- isClosed = 닫힌 도형 여부\n",
    "- Color = 색상\n",
    "- Thickness = 굵기\n"
   ]
  },
  {
   "cell_type": "code",
   "execution_count": 83,
   "metadata": {},
   "outputs": [
    {
     "name": "stdout",
     "output_type": "stream",
     "text": [
      "[[[ 10  10]]\n",
      "\n",
      " [[ 12  12]]\n",
      "\n",
      " [[ 17  17]]\n",
      "\n",
      " [[ 50  50]]\n",
      "\n",
      " [[ 70  30]]\n",
      "\n",
      " [[100 150]]]\n"
     ]
    }
   ],
   "source": [
    "points = np.array([[10,10],[12,12],[17,17],[50,50],[70,30],[100,150]],np.int32)\n",
    "points = points.reshape((-1,1,2))\n",
    "print(points)"
   ]
  },
  {
   "cell_type": "code",
   "execution_count": 84,
   "metadata": {},
   "outputs": [],
   "source": [
    "# IsClosed = True\n",
    "Image = cv2.imread(images[0])\n",
    "cv2.polylines(Image,[points],True,(0,255,255))\n",
    "Image_Show(Image)"
   ]
  },
  {
   "cell_type": "code",
   "execution_count": 85,
   "metadata": {},
   "outputs": [],
   "source": [
    "# IsClosed = False \n",
    "Image = cv2.imread(images[0])\n",
    "cv2.polylines(Image,[points],False,(0,255,255))\n",
    "Image_Show(Image)"
   ]
  },
  {
   "cell_type": "markdown",
   "metadata": {},
   "source": [
    "### cv2.rectangle(img,start,end,Color,thickness)\n",
    "- 정사각형(rectangle)을 그려주는 함수이다\n",
    "- img = 이미지 파일\n",
    "- Start = 정사각형의 시작지점 (x,y) \n",
    "- end = 정사각형의 끝지점 (x,y)"
   ]
  },
  {
   "cell_type": "code",
   "execution_count": 86,
   "metadata": {},
   "outputs": [],
   "source": [
    "Image = cv2.imread(images[0])\n",
    "h,w,_ = Image.shape\n",
    "cv2.rectangle(Image,(int(w*0.3),int(h*0.4)),(int(w*0.7),int(h*0.6)),(255,255,255),2)\n",
    "Image_Show(Image)"
   ]
  },
  {
   "cell_type": "code",
   "execution_count": 87,
   "metadata": {},
   "outputs": [],
   "source": [
    "Image = cv2.imread(images[0])\n",
    "h,w,_ = Image.shape\n",
    "cv2.rectangle(Image,(125,125),(200,214),(255,255,255),2)\n",
    "Image_Show(Image)"
   ]
  },
  {
   "cell_type": "markdown",
   "metadata": {},
   "source": [
    "### cv2.putText(img,text,org,font,fontScale,Color)\n",
    "\n",
    "- 그림에 글자를 넣어주는 함수\n",
    "- img = 이미지 파일\n",
    "- text = 표시할 문자열 \n",
    "- org = 문자열을 표시할 위치\n",
    "- font = 폰트의 타입\n",
    "- fontScale = 폰트의 크기\n",
    "\n",
    "**Font Types = FONT_HERSHEY_SIMPLEX, FONT_HERSHEY_PLAIN, FONT_HERSHEY_DUPLEX, FONT_HERSHEY_COMPLEX, \n",
    "       FONT_HERSHEY_TRIPLEX, FONT_HERSHEY_COMPLEX_SMALL, FONT_HERSHEY_SCRIPT_SIMPLEX, FONT_HERSHEY_SCRIPT_COMPLEX** \n",
    "\n"
   ]
  },
  {
   "cell_type": "code",
   "execution_count": 88,
   "metadata": {},
   "outputs": [],
   "source": [
    "Image = cv2.imread(images[0])\n",
    "h,w,_ = Image.shape\n",
    "\n",
    "Text = 'Test Text'\n",
    "Font_Style = cv2.FONT_HERSHEY_SIMPLEX\n",
    "cv2.rectangle(Image,(125,125),(200,214),(255,255,255),2)\n",
    "cv2.putText(Image,Text,(125,135),Font_Style,0.5,(255,255,255),1)\n",
    "Image_Show(Image)"
   ]
  },
  {
   "cell_type": "markdown",
   "metadata": {},
   "source": [
    "## Flip, Rotate\n",
    "\n",
    "### cv2.flip(image, flip_direction)\n",
    "- Image : 이미지파일\n",
    "- fiip_direction : 전환 시킬 방향, 1 : 좌우반전, 0 : 상하반전"
   ]
  },
  {
   "cell_type": "code",
   "execution_count": 89,
   "metadata": {},
   "outputs": [],
   "source": [
    "Image = cv2.imread(images[0])\n",
    "Image = cv2.flip(Image,1)\n",
    "Image_Show(Image)"
   ]
  },
  {
   "cell_type": "code",
   "execution_count": 90,
   "metadata": {},
   "outputs": [],
   "source": [
    "Image = cv2.imread(images[0])\n",
    "Image = cv2.flip(Image,0)\n",
    "Image_Show(Image)"
   ]
  },
  {
   "cell_type": "markdown",
   "metadata": {},
   "source": [
    "### cv2.getRotationMatrix2D(center, angle, scale)\n",
    "- 2차원 회전된 행렬을 생성해준다\n",
    "- Center : 중심점\n",
    "- Angle : 회전각\n",
    "- Scale : 생성크기\n",
    "\n",
    "### cv2.warpAffine(img, Matrix, dsize)\n",
    "- 이미지를 변환행렬에 적용시켜주는 함수\n",
    "- img = 변경할 이미지\n",
    "- Matrix = 회전된 행렬\n",
    "- dsize = 변경할 이미지의 가로,세로의 크기"
   ]
  },
  {
   "cell_type": "code",
   "execution_count": 92,
   "metadata": {},
   "outputs": [],
   "source": [
    "Image = cv2.imread(images[0])\n",
    "rotated_images = []\n",
    "rotate_angles = [90,180,270] \n",
    "height, width ,_ = Image.shape\n",
    "scale = 1.0\n",
    "for angle in rotate_angles:\n",
    "    Matrix = cv2.getRotationMatrix2D((width/2,height/2),angle,scale)\n",
    "    rotated_images.append(cv2.warpAffine(Image,Matrix,(width,height)))"
   ]
  },
  {
   "cell_type": "code",
   "execution_count": 96,
   "metadata": {},
   "outputs": [],
   "source": [
    "for rotated_image in rotated_images:\n",
    "    Image_Show(rotated_image)"
   ]
  },
  {
   "cell_type": "code",
   "execution_count": null,
   "metadata": {},
   "outputs": [],
   "source": [
    "### DeNoising Method\n",
    "- Gaussian \n",
    "- Rayleigh\n",
    "- Erlang, Gamma\n",
    "- Exponetial\n",
    "- Uniform\n",
    "- Impulse"
   ]
  }
 ],
 "metadata": {
  "kernelspec": {
   "display_name": "Python 3",
   "language": "python",
   "name": "python3"
  },
  "language_info": {
   "codemirror_mode": {
    "name": "ipython",
    "version": 3
   },
   "file_extension": ".py",
   "mimetype": "text/x-python",
   "name": "python",
   "nbconvert_exporter": "python",
   "pygments_lexer": "ipython3",
   "version": "3.6.5"
  }
 },
 "nbformat": 4,
 "nbformat_minor": 2
}
